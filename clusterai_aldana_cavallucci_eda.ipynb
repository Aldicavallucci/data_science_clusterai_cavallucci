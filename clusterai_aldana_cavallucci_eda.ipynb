{
 "cells": [
  {
   "cell_type": "code",
   "execution_count": 95,
   "metadata": {},
   "outputs": [],
   "source": [
    "# Importo librerías\n",
    "import numpy as np\n",
    "import pandas as pd\n",
    "import matplotlib.pyplot as plt\n",
    "import seaborn as sns\n",
    "from sklearn import svm\n",
    "from sklearn.svm import SVC\n",
    "from sklearn.model_selection import train_test_split\n",
    "from sklearn.metrics import accuracy_score\n",
    "from sklearn.model_selection import cross_val_score\n",
    "from sklearn.metrics import roc_curve, auc\n",
    "from sklearn import metrics\n",
    "from sklearn.model_selection import GridSearchCV\n",
    "from sklearn.metrics import confusion_matrix\n",
    "from sklearn.linear_model import LogisticRegression\n",
    "from sklearn.feature_selection import RFECV\n",
    "from sklearn import linear_model\n",
    "from sklearn.linear_model import LassoCV, LassoLarsCV, LassoLarsIC\n",
    "from sklearn.linear_model import Lasso\n",
    "from sklearn.linear_model import lasso_path\n",
    "from sklearn.feature_selection import VarianceThreshold\n",
    "from sklearn.decomposition import PCA"
   ]
  },
  {
   "cell_type": "code",
   "execution_count": 96,
   "metadata": {},
   "outputs": [],
   "source": [
    "# Importo el archivo\n",
    "df = pd.read_csv(r'C:\\Users\\ibergera\\Desktop\\CS DATOS\\TP\\dataset_final_carajo_ALDI.csv',delimiter= ';')"
   ]
  },
  {
   "cell_type": "code",
   "execution_count": 97,
   "metadata": {},
   "outputs": [
    {
     "data": {
      "text/html": [
       "<div>\n",
       "<style scoped>\n",
       "    .dataframe tbody tr th:only-of-type {\n",
       "        vertical-align: middle;\n",
       "    }\n",
       "\n",
       "    .dataframe tbody tr th {\n",
       "        vertical-align: top;\n",
       "    }\n",
       "\n",
       "    .dataframe thead th {\n",
       "        text-align: right;\n",
       "    }\n",
       "</style>\n",
       "<table border=\"1\" class=\"dataframe\">\n",
       "  <thead>\n",
       "    <tr style=\"text-align: right;\">\n",
       "      <th></th>\n",
       "      <th>key</th>\n",
       "      <th>fecha</th>\n",
       "      <th>hora</th>\n",
       "      <th>co_la_boca</th>\n",
       "      <th>no2_la_boca</th>\n",
       "      <th>pm10_la_boca</th>\n",
       "      <th>fecha-hora</th>\n",
       "      <th>Flujo_en_Sentido_A</th>\n",
       "      <th>Flujo_en_Sentido_B</th>\n",
       "      <th>HORA</th>\n",
       "      <th>TEMP</th>\n",
       "      <th>HUM</th>\n",
       "      <th>PNM</th>\n",
       "      <th>DD</th>\n",
       "      <th>FF</th>\n",
       "    </tr>\n",
       "  </thead>\n",
       "  <tbody>\n",
       "    <tr>\n",
       "      <th>0</th>\n",
       "      <td>0</td>\n",
       "      <td>2019-01-01</td>\n",
       "      <td>1</td>\n",
       "      <td>0.48</td>\n",
       "      <td>10.0</td>\n",
       "      <td>23.0</td>\n",
       "      <td>2019-01-01 1</td>\n",
       "      <td>2397.0</td>\n",
       "      <td>1771.0</td>\n",
       "      <td>1.0</td>\n",
       "      <td>25.9</td>\n",
       "      <td>64.0</td>\n",
       "      <td>1010.6</td>\n",
       "      <td>70.0</td>\n",
       "      <td>19.0</td>\n",
       "    </tr>\n",
       "    <tr>\n",
       "      <th>1</th>\n",
       "      <td>1</td>\n",
       "      <td>2019-01-01</td>\n",
       "      <td>2</td>\n",
       "      <td>0.46</td>\n",
       "      <td>11.0</td>\n",
       "      <td>23.0</td>\n",
       "      <td>2019-01-01 2</td>\n",
       "      <td>3013.0</td>\n",
       "      <td>2384.0</td>\n",
       "      <td>2.0</td>\n",
       "      <td>25.4</td>\n",
       "      <td>67.0</td>\n",
       "      <td>1010.4</td>\n",
       "      <td>70.0</td>\n",
       "      <td>19.0</td>\n",
       "    </tr>\n",
       "    <tr>\n",
       "      <th>2</th>\n",
       "      <td>2</td>\n",
       "      <td>2019-01-01</td>\n",
       "      <td>3</td>\n",
       "      <td>0.46</td>\n",
       "      <td>12.0</td>\n",
       "      <td>23.0</td>\n",
       "      <td>2019-01-01 3</td>\n",
       "      <td>2098.0</td>\n",
       "      <td>1835.0</td>\n",
       "      <td>3.0</td>\n",
       "      <td>24.7</td>\n",
       "      <td>71.0</td>\n",
       "      <td>1010.5</td>\n",
       "      <td>50.0</td>\n",
       "      <td>20.0</td>\n",
       "    </tr>\n",
       "    <tr>\n",
       "      <th>3</th>\n",
       "      <td>3</td>\n",
       "      <td>2019-01-01</td>\n",
       "      <td>4</td>\n",
       "      <td>0.46</td>\n",
       "      <td>11.0</td>\n",
       "      <td>24.0</td>\n",
       "      <td>2019-01-01 4</td>\n",
       "      <td>1165.0</td>\n",
       "      <td>1254.0</td>\n",
       "      <td>4.0</td>\n",
       "      <td>24.1</td>\n",
       "      <td>75.0</td>\n",
       "      <td>1010.2</td>\n",
       "      <td>50.0</td>\n",
       "      <td>17.0</td>\n",
       "    </tr>\n",
       "    <tr>\n",
       "      <th>4</th>\n",
       "      <td>4</td>\n",
       "      <td>2019-01-01</td>\n",
       "      <td>5</td>\n",
       "      <td>0.45</td>\n",
       "      <td>9.0</td>\n",
       "      <td>24.0</td>\n",
       "      <td>2019-01-01 5</td>\n",
       "      <td>1176.0</td>\n",
       "      <td>1026.0</td>\n",
       "      <td>5.0</td>\n",
       "      <td>23.7</td>\n",
       "      <td>80.0</td>\n",
       "      <td>1010.8</td>\n",
       "      <td>70.0</td>\n",
       "      <td>17.0</td>\n",
       "    </tr>\n",
       "  </tbody>\n",
       "</table>\n",
       "</div>"
      ],
      "text/plain": [
       "   key       fecha  hora  co_la_boca  no2_la_boca  pm10_la_boca    fecha-hora  \\\n",
       "0    0  2019-01-01     1        0.48         10.0          23.0  2019-01-01 1   \n",
       "1    1  2019-01-01     2        0.46         11.0          23.0  2019-01-01 2   \n",
       "2    2  2019-01-01     3        0.46         12.0          23.0  2019-01-01 3   \n",
       "3    3  2019-01-01     4        0.46         11.0          24.0  2019-01-01 4   \n",
       "4    4  2019-01-01     5        0.45          9.0          24.0  2019-01-01 5   \n",
       "\n",
       "   Flujo_en_Sentido_A  Flujo_en_Sentido_B  HORA  TEMP   HUM     PNM    DD  \\\n",
       "0              2397.0              1771.0   1.0  25.9  64.0  1010.6  70.0   \n",
       "1              3013.0              2384.0   2.0  25.4  67.0  1010.4  70.0   \n",
       "2              2098.0              1835.0   3.0  24.7  71.0  1010.5  50.0   \n",
       "3              1165.0              1254.0   4.0  24.1  75.0  1010.2  50.0   \n",
       "4              1176.0              1026.0   5.0  23.7  80.0  1010.8  70.0   \n",
       "\n",
       "     FF  \n",
       "0  19.0  \n",
       "1  19.0  \n",
       "2  20.0  \n",
       "3  17.0  \n",
       "4  17.0  "
      ]
     },
     "execution_count": 97,
     "metadata": {},
     "output_type": "execute_result"
    }
   ],
   "source": [
    "# Veo que tiene\n",
    "df.head()"
   ]
  },
  {
   "cell_type": "code",
   "execution_count": 98,
   "metadata": {},
   "outputs": [],
   "source": [
    "# Dropie una columna al pedo. Es necesario mantener fecha y hora por separados o se pueden dropear?\n",
    "df_nuevo=df.drop(columns=['key'])"
   ]
  },
  {
   "cell_type": "code",
   "execution_count": 99,
   "metadata": {},
   "outputs": [
    {
     "data": {
      "text/html": [
       "<div>\n",
       "<style scoped>\n",
       "    .dataframe tbody tr th:only-of-type {\n",
       "        vertical-align: middle;\n",
       "    }\n",
       "\n",
       "    .dataframe tbody tr th {\n",
       "        vertical-align: top;\n",
       "    }\n",
       "\n",
       "    .dataframe thead th {\n",
       "        text-align: right;\n",
       "    }\n",
       "</style>\n",
       "<table border=\"1\" class=\"dataframe\">\n",
       "  <thead>\n",
       "    <tr style=\"text-align: right;\">\n",
       "      <th></th>\n",
       "      <th>fecha</th>\n",
       "      <th>hora</th>\n",
       "      <th>co_la_boca</th>\n",
       "      <th>no2_la_boca</th>\n",
       "      <th>pm10_la_boca</th>\n",
       "      <th>fecha-hora</th>\n",
       "      <th>Flujo_en_Sentido_A</th>\n",
       "      <th>Flujo_en_Sentido_B</th>\n",
       "      <th>HORA</th>\n",
       "      <th>TEMP</th>\n",
       "      <th>HUM</th>\n",
       "      <th>PNM</th>\n",
       "      <th>DD</th>\n",
       "      <th>FF</th>\n",
       "    </tr>\n",
       "  </thead>\n",
       "  <tbody>\n",
       "    <tr>\n",
       "      <th>0</th>\n",
       "      <td>2019-01-01</td>\n",
       "      <td>1</td>\n",
       "      <td>0.48</td>\n",
       "      <td>10.0</td>\n",
       "      <td>23.0</td>\n",
       "      <td>2019-01-01 1</td>\n",
       "      <td>2397.0</td>\n",
       "      <td>1771.0</td>\n",
       "      <td>1.0</td>\n",
       "      <td>25.9</td>\n",
       "      <td>64.0</td>\n",
       "      <td>1010.6</td>\n",
       "      <td>70.0</td>\n",
       "      <td>19.0</td>\n",
       "    </tr>\n",
       "    <tr>\n",
       "      <th>1</th>\n",
       "      <td>2019-01-01</td>\n",
       "      <td>2</td>\n",
       "      <td>0.46</td>\n",
       "      <td>11.0</td>\n",
       "      <td>23.0</td>\n",
       "      <td>2019-01-01 2</td>\n",
       "      <td>3013.0</td>\n",
       "      <td>2384.0</td>\n",
       "      <td>2.0</td>\n",
       "      <td>25.4</td>\n",
       "      <td>67.0</td>\n",
       "      <td>1010.4</td>\n",
       "      <td>70.0</td>\n",
       "      <td>19.0</td>\n",
       "    </tr>\n",
       "    <tr>\n",
       "      <th>2</th>\n",
       "      <td>2019-01-01</td>\n",
       "      <td>3</td>\n",
       "      <td>0.46</td>\n",
       "      <td>12.0</td>\n",
       "      <td>23.0</td>\n",
       "      <td>2019-01-01 3</td>\n",
       "      <td>2098.0</td>\n",
       "      <td>1835.0</td>\n",
       "      <td>3.0</td>\n",
       "      <td>24.7</td>\n",
       "      <td>71.0</td>\n",
       "      <td>1010.5</td>\n",
       "      <td>50.0</td>\n",
       "      <td>20.0</td>\n",
       "    </tr>\n",
       "    <tr>\n",
       "      <th>3</th>\n",
       "      <td>2019-01-01</td>\n",
       "      <td>4</td>\n",
       "      <td>0.46</td>\n",
       "      <td>11.0</td>\n",
       "      <td>24.0</td>\n",
       "      <td>2019-01-01 4</td>\n",
       "      <td>1165.0</td>\n",
       "      <td>1254.0</td>\n",
       "      <td>4.0</td>\n",
       "      <td>24.1</td>\n",
       "      <td>75.0</td>\n",
       "      <td>1010.2</td>\n",
       "      <td>50.0</td>\n",
       "      <td>17.0</td>\n",
       "    </tr>\n",
       "    <tr>\n",
       "      <th>4</th>\n",
       "      <td>2019-01-01</td>\n",
       "      <td>5</td>\n",
       "      <td>0.45</td>\n",
       "      <td>9.0</td>\n",
       "      <td>24.0</td>\n",
       "      <td>2019-01-01 5</td>\n",
       "      <td>1176.0</td>\n",
       "      <td>1026.0</td>\n",
       "      <td>5.0</td>\n",
       "      <td>23.7</td>\n",
       "      <td>80.0</td>\n",
       "      <td>1010.8</td>\n",
       "      <td>70.0</td>\n",
       "      <td>17.0</td>\n",
       "    </tr>\n",
       "  </tbody>\n",
       "</table>\n",
       "</div>"
      ],
      "text/plain": [
       "        fecha  hora  co_la_boca  no2_la_boca  pm10_la_boca    fecha-hora  \\\n",
       "0  2019-01-01     1        0.48         10.0          23.0  2019-01-01 1   \n",
       "1  2019-01-01     2        0.46         11.0          23.0  2019-01-01 2   \n",
       "2  2019-01-01     3        0.46         12.0          23.0  2019-01-01 3   \n",
       "3  2019-01-01     4        0.46         11.0          24.0  2019-01-01 4   \n",
       "4  2019-01-01     5        0.45          9.0          24.0  2019-01-01 5   \n",
       "\n",
       "   Flujo_en_Sentido_A  Flujo_en_Sentido_B  HORA  TEMP   HUM     PNM    DD  \\\n",
       "0              2397.0              1771.0   1.0  25.9  64.0  1010.6  70.0   \n",
       "1              3013.0              2384.0   2.0  25.4  67.0  1010.4  70.0   \n",
       "2              2098.0              1835.0   3.0  24.7  71.0  1010.5  50.0   \n",
       "3              1165.0              1254.0   4.0  24.1  75.0  1010.2  50.0   \n",
       "4              1176.0              1026.0   5.0  23.7  80.0  1010.8  70.0   \n",
       "\n",
       "     FF  \n",
       "0  19.0  \n",
       "1  19.0  \n",
       "2  20.0  \n",
       "3  17.0  \n",
       "4  17.0  "
      ]
     },
     "execution_count": 99,
     "metadata": {},
     "output_type": "execute_result"
    }
   ],
   "source": [
    "# Nuevo Head\n",
    "df_nuevo.head()"
   ]
  },
  {
   "cell_type": "code",
   "execution_count": 100,
   "metadata": {},
   "outputs": [
    {
     "data": {
      "text/plain": [
       "Index(['key', 'fecha', 'hora', 'co_la_boca', 'no2_la_boca', 'pm10_la_boca',\n",
       "       'fecha-hora', 'Flujo_en_Sentido_A', 'Flujo_en_Sentido_B', 'HORA',\n",
       "       'TEMP', 'HUM', 'PNM', 'DD', 'FF'],\n",
       "      dtype='object')"
      ]
     },
     "execution_count": 100,
     "metadata": {},
     "output_type": "execute_result"
    }
   ],
   "source": [
    "#Observamos cuales son las columnas de nuestro dataset\n",
    "df.columns"
   ]
  },
  {
   "cell_type": "code",
   "execution_count": 101,
   "metadata": {},
   "outputs": [
    {
     "data": {
      "text/html": [
       "<div>\n",
       "<style scoped>\n",
       "    .dataframe tbody tr th:only-of-type {\n",
       "        vertical-align: middle;\n",
       "    }\n",
       "\n",
       "    .dataframe tbody tr th {\n",
       "        vertical-align: top;\n",
       "    }\n",
       "\n",
       "    .dataframe thead th {\n",
       "        text-align: right;\n",
       "    }\n",
       "</style>\n",
       "<table border=\"1\" class=\"dataframe\">\n",
       "  <thead>\n",
       "    <tr style=\"text-align: right;\">\n",
       "      <th></th>\n",
       "      <th>key</th>\n",
       "      <th>hora</th>\n",
       "      <th>co_la_boca</th>\n",
       "      <th>no2_la_boca</th>\n",
       "      <th>pm10_la_boca</th>\n",
       "      <th>Flujo_en_Sentido_A</th>\n",
       "      <th>Flujo_en_Sentido_B</th>\n",
       "      <th>HORA</th>\n",
       "      <th>TEMP</th>\n",
       "      <th>HUM</th>\n",
       "      <th>PNM</th>\n",
       "      <th>DD</th>\n",
       "      <th>FF</th>\n",
       "    </tr>\n",
       "  </thead>\n",
       "  <tbody>\n",
       "    <tr>\n",
       "      <th>count</th>\n",
       "      <td>2868.000000</td>\n",
       "      <td>2868.000000</td>\n",
       "      <td>2805.000000</td>\n",
       "      <td>2464.000000</td>\n",
       "      <td>2697.000000</td>\n",
       "      <td>2325.000000</td>\n",
       "      <td>2325.000000</td>\n",
       "      <td>2767.000000</td>\n",
       "      <td>2767.000000</td>\n",
       "      <td>2767.000000</td>\n",
       "      <td>2767.000000</td>\n",
       "      <td>2767.000000</td>\n",
       "      <td>2767.000000</td>\n",
       "    </tr>\n",
       "    <tr>\n",
       "      <th>mean</th>\n",
       "      <td>1433.500000</td>\n",
       "      <td>12.474895</td>\n",
       "      <td>0.468927</td>\n",
       "      <td>20.132305</td>\n",
       "      <td>29.770115</td>\n",
       "      <td>2344.350538</td>\n",
       "      <td>2583.639570</td>\n",
       "      <td>12.468739</td>\n",
       "      <td>22.159523</td>\n",
       "      <td>69.451391</td>\n",
       "      <td>1014.854174</td>\n",
       "      <td>173.335743</td>\n",
       "      <td>13.704373</td>\n",
       "    </tr>\n",
       "    <tr>\n",
       "      <th>std</th>\n",
       "      <td>828.064611</td>\n",
       "      <td>6.923348</td>\n",
       "      <td>0.199410</td>\n",
       "      <td>8.194223</td>\n",
       "      <td>9.092410</td>\n",
       "      <td>1222.365135</td>\n",
       "      <td>1345.677537</td>\n",
       "      <td>6.921600</td>\n",
       "      <td>4.095410</td>\n",
       "      <td>13.972590</td>\n",
       "      <td>5.931238</td>\n",
       "      <td>120.597019</td>\n",
       "      <td>6.730538</td>\n",
       "    </tr>\n",
       "    <tr>\n",
       "      <th>min</th>\n",
       "      <td>0.000000</td>\n",
       "      <td>1.000000</td>\n",
       "      <td>0.160000</td>\n",
       "      <td>1.000000</td>\n",
       "      <td>9.000000</td>\n",
       "      <td>0.000000</td>\n",
       "      <td>0.000000</td>\n",
       "      <td>1.000000</td>\n",
       "      <td>11.800000</td>\n",
       "      <td>20.000000</td>\n",
       "      <td>998.000000</td>\n",
       "      <td>0.000000</td>\n",
       "      <td>0.000000</td>\n",
       "    </tr>\n",
       "    <tr>\n",
       "      <th>25%</th>\n",
       "      <td>716.750000</td>\n",
       "      <td>6.000000</td>\n",
       "      <td>0.350000</td>\n",
       "      <td>15.000000</td>\n",
       "      <td>23.000000</td>\n",
       "      <td>1347.000000</td>\n",
       "      <td>1332.000000</td>\n",
       "      <td>6.000000</td>\n",
       "      <td>19.200000</td>\n",
       "      <td>60.000000</td>\n",
       "      <td>1010.800000</td>\n",
       "      <td>90.000000</td>\n",
       "      <td>9.000000</td>\n",
       "    </tr>\n",
       "    <tr>\n",
       "      <th>50%</th>\n",
       "      <td>1433.500000</td>\n",
       "      <td>12.000000</td>\n",
       "      <td>0.440000</td>\n",
       "      <td>20.000000</td>\n",
       "      <td>29.000000</td>\n",
       "      <td>2489.000000</td>\n",
       "      <td>2825.000000</td>\n",
       "      <td>12.000000</td>\n",
       "      <td>22.000000</td>\n",
       "      <td>70.000000</td>\n",
       "      <td>1014.500000</td>\n",
       "      <td>140.000000</td>\n",
       "      <td>13.000000</td>\n",
       "    </tr>\n",
       "    <tr>\n",
       "      <th>75%</th>\n",
       "      <td>2150.250000</td>\n",
       "      <td>18.000000</td>\n",
       "      <td>0.550000</td>\n",
       "      <td>25.000000</td>\n",
       "      <td>35.000000</td>\n",
       "      <td>3291.000000</td>\n",
       "      <td>3624.000000</td>\n",
       "      <td>18.000000</td>\n",
       "      <td>24.900000</td>\n",
       "      <td>80.000000</td>\n",
       "      <td>1019.050000</td>\n",
       "      <td>230.000000</td>\n",
       "      <td>17.000000</td>\n",
       "    </tr>\n",
       "    <tr>\n",
       "      <th>max</th>\n",
       "      <td>2867.000000</td>\n",
       "      <td>24.000000</td>\n",
       "      <td>2.980000</td>\n",
       "      <td>75.000000</td>\n",
       "      <td>62.000000</td>\n",
       "      <td>4982.000000</td>\n",
       "      <td>5342.000000</td>\n",
       "      <td>24.000000</td>\n",
       "      <td>35.000000</td>\n",
       "      <td>98.000000</td>\n",
       "      <td>1029.600000</td>\n",
       "      <td>990.000000</td>\n",
       "      <td>48.000000</td>\n",
       "    </tr>\n",
       "  </tbody>\n",
       "</table>\n",
       "</div>"
      ],
      "text/plain": [
       "               key         hora   co_la_boca  no2_la_boca  pm10_la_boca  \\\n",
       "count  2868.000000  2868.000000  2805.000000  2464.000000   2697.000000   \n",
       "mean   1433.500000    12.474895     0.468927    20.132305     29.770115   \n",
       "std     828.064611     6.923348     0.199410     8.194223      9.092410   \n",
       "min       0.000000     1.000000     0.160000     1.000000      9.000000   \n",
       "25%     716.750000     6.000000     0.350000    15.000000     23.000000   \n",
       "50%    1433.500000    12.000000     0.440000    20.000000     29.000000   \n",
       "75%    2150.250000    18.000000     0.550000    25.000000     35.000000   \n",
       "max    2867.000000    24.000000     2.980000    75.000000     62.000000   \n",
       "\n",
       "       Flujo_en_Sentido_A  Flujo_en_Sentido_B         HORA         TEMP  \\\n",
       "count         2325.000000         2325.000000  2767.000000  2767.000000   \n",
       "mean          2344.350538         2583.639570    12.468739    22.159523   \n",
       "std           1222.365135         1345.677537     6.921600     4.095410   \n",
       "min              0.000000            0.000000     1.000000    11.800000   \n",
       "25%           1347.000000         1332.000000     6.000000    19.200000   \n",
       "50%           2489.000000         2825.000000    12.000000    22.000000   \n",
       "75%           3291.000000         3624.000000    18.000000    24.900000   \n",
       "max           4982.000000         5342.000000    24.000000    35.000000   \n",
       "\n",
       "               HUM          PNM           DD           FF  \n",
       "count  2767.000000  2767.000000  2767.000000  2767.000000  \n",
       "mean     69.451391  1014.854174   173.335743    13.704373  \n",
       "std      13.972590     5.931238   120.597019     6.730538  \n",
       "min      20.000000   998.000000     0.000000     0.000000  \n",
       "25%      60.000000  1010.800000    90.000000     9.000000  \n",
       "50%      70.000000  1014.500000   140.000000    13.000000  \n",
       "75%      80.000000  1019.050000   230.000000    17.000000  \n",
       "max      98.000000  1029.600000   990.000000    48.000000  "
      ]
     },
     "execution_count": 101,
     "metadata": {},
     "output_type": "execute_result"
    }
   ],
   "source": [
    "#Describimos el dataset\n",
    "df.describe()"
   ]
  },
  {
   "cell_type": "code",
   "execution_count": 102,
   "metadata": {},
   "outputs": [
    {
     "data": {
      "text/plain": [
       "(2868, 14)"
      ]
     },
     "execution_count": 102,
     "metadata": {},
     "output_type": "execute_result"
    }
   ],
   "source": [
    "df_nuevo.shape"
   ]
  },
  {
   "cell_type": "code",
   "execution_count": 103,
   "metadata": {},
   "outputs": [
    {
     "data": {
      "text/plain": [
       "fecha                 False\n",
       "hora                  False\n",
       "co_la_boca             True\n",
       "no2_la_boca            True\n",
       "pm10_la_boca           True\n",
       "fecha-hora            False\n",
       "Flujo_en_Sentido_A     True\n",
       "Flujo_en_Sentido_B     True\n",
       "HORA                   True\n",
       "TEMP                   True\n",
       "HUM                    True\n",
       "PNM                    True\n",
       "DD                     True\n",
       "FF                     True\n",
       "dtype: bool"
      ]
     },
     "execution_count": 103,
     "metadata": {},
     "output_type": "execute_result"
    }
   ],
   "source": [
    "# Veo si hay Nulls\n",
    "col_nulls = df_nuevo.isnull().any()\n",
    "col_nulls"
   ]
  },
  {
   "cell_type": "code",
   "execution_count": 104,
   "metadata": {},
   "outputs": [
    {
     "data": {
      "text/html": [
       "<div>\n",
       "<style scoped>\n",
       "    .dataframe tbody tr th:only-of-type {\n",
       "        vertical-align: middle;\n",
       "    }\n",
       "\n",
       "    .dataframe tbody tr th {\n",
       "        vertical-align: top;\n",
       "    }\n",
       "\n",
       "    .dataframe thead th {\n",
       "        text-align: right;\n",
       "    }\n",
       "</style>\n",
       "<table border=\"1\" class=\"dataframe\">\n",
       "  <thead>\n",
       "    <tr style=\"text-align: right;\">\n",
       "      <th></th>\n",
       "      <th>total</th>\n",
       "      <th>porcentaje</th>\n",
       "    </tr>\n",
       "  </thead>\n",
       "  <tbody>\n",
       "    <tr>\n",
       "      <th>Flujo_en_Sentido_B</th>\n",
       "      <td>543</td>\n",
       "      <td>0.189331</td>\n",
       "    </tr>\n",
       "    <tr>\n",
       "      <th>Flujo_en_Sentido_A</th>\n",
       "      <td>543</td>\n",
       "      <td>0.189331</td>\n",
       "    </tr>\n",
       "    <tr>\n",
       "      <th>no2_la_boca</th>\n",
       "      <td>404</td>\n",
       "      <td>0.140865</td>\n",
       "    </tr>\n",
       "    <tr>\n",
       "      <th>pm10_la_boca</th>\n",
       "      <td>171</td>\n",
       "      <td>0.059623</td>\n",
       "    </tr>\n",
       "    <tr>\n",
       "      <th>FF</th>\n",
       "      <td>101</td>\n",
       "      <td>0.035216</td>\n",
       "    </tr>\n",
       "    <tr>\n",
       "      <th>DD</th>\n",
       "      <td>101</td>\n",
       "      <td>0.035216</td>\n",
       "    </tr>\n",
       "  </tbody>\n",
       "</table>\n",
       "</div>"
      ],
      "text/plain": [
       "                    total  porcentaje\n",
       "Flujo_en_Sentido_B    543    0.189331\n",
       "Flujo_en_Sentido_A    543    0.189331\n",
       "no2_la_boca           404    0.140865\n",
       "pm10_la_boca          171    0.059623\n",
       "FF                    101    0.035216\n",
       "DD                    101    0.035216"
      ]
     },
     "execution_count": 104,
     "metadata": {},
     "output_type": "execute_result"
    }
   ],
   "source": [
    "# Veo cuantos nulls\n",
    "total_nulas = df_nuevo.isnull().sum().sort_values(ascending=False)\n",
    "porcentaje = (df_nuevo.isnull().sum()/df_nuevo.isnull().count()).sort_values(ascending=False)\n",
    "missing_data = pd.concat([total_nulas, porcentaje], axis=1, keys=['total', 'porcentaje'])\n",
    "missing_data.head(6)"
   ]
  },
  {
   "cell_type": "code",
   "execution_count": 105,
   "metadata": {},
   "outputs": [],
   "source": [
    "#Dropeo los nulls\n",
    "df_nuevo.dropna(how ='any', inplace = True)"
   ]
  },
  {
   "cell_type": "code",
   "execution_count": 106,
   "metadata": {
    "scrolled": true
   },
   "outputs": [
    {
     "data": {
      "text/plain": [
       "(1897, 14)"
      ]
     },
     "execution_count": 106,
     "metadata": {},
     "output_type": "execute_result"
    }
   ],
   "source": [
    "#Veo cuantas lineas perdí\n",
    "df_nuevo.shape"
   ]
  },
  {
   "cell_type": "code",
   "execution_count": 107,
   "metadata": {
    "scrolled": false
   },
   "outputs": [
    {
     "data": {
      "text/plain": [
       "<bound method NDFrame.head of            fecha  hora  co_la_boca  no2_la_boca  pm10_la_boca     fecha-hora  \\\n",
       "0     2019-01-01     1        0.48         10.0          23.0   2019-01-01 1   \n",
       "1     2019-01-01     2        0.46         11.0          23.0   2019-01-01 2   \n",
       "2     2019-01-01     3        0.46         12.0          23.0   2019-01-01 3   \n",
       "3     2019-01-01     4        0.46         11.0          24.0   2019-01-01 4   \n",
       "4     2019-01-01     5        0.45          9.0          24.0   2019-01-01 5   \n",
       "5     2019-01-01     6        0.44          8.0          24.0   2019-01-01 6   \n",
       "6     2019-01-01     7        0.44          9.0          25.0   2019-01-01 7   \n",
       "7     2019-01-01     8        0.42          9.0          24.0   2019-01-01 8   \n",
       "8     2019-01-01     9        0.43          8.0          24.0   2019-01-01 9   \n",
       "9     2019-01-01    10        0.43          8.0          24.0  2019-01-01 10   \n",
       "10    2019-01-01    11        0.44          5.0          23.0  2019-01-01 11   \n",
       "11    2019-01-01    12        0.44          6.0          23.0  2019-01-01 12   \n",
       "12    2019-01-01    13        0.44          5.0          23.0  2019-01-01 13   \n",
       "13    2019-01-01    14        0.45          7.0          23.0  2019-01-01 14   \n",
       "14    2019-01-01    15        0.45          7.0          24.0  2019-01-01 15   \n",
       "15    2019-01-01    16        0.46          7.0          24.0  2019-01-01 16   \n",
       "16    2019-01-01    17        0.46          7.0          24.0  2019-01-01 17   \n",
       "17    2019-01-01    18        0.48         10.0          23.0  2019-01-01 18   \n",
       "18    2019-01-01    19        0.51         12.0          23.0  2019-01-01 19   \n",
       "19    2019-01-01    20        0.53         10.0          22.0  2019-01-01 20   \n",
       "20    2019-01-01    21        0.54          9.0          22.0  2019-01-01 21   \n",
       "21    2019-01-01    22        0.56         11.0          22.0  2019-01-01 22   \n",
       "22    2019-01-01    23        0.58         10.0          23.0  2019-01-01 23   \n",
       "24    2019-01-02     1        0.58         10.0          22.0   2019-01-02 1   \n",
       "25    2019-01-02     2        0.57          7.0          21.0   2019-01-02 2   \n",
       "26    2019-01-02     3        0.55          8.0          21.0   2019-01-02 3   \n",
       "27    2019-01-02     4        0.54          7.0          20.0   2019-01-02 4   \n",
       "28    2019-01-02     5        0.54          8.0          20.0   2019-01-02 5   \n",
       "29    2019-01-02     6        0.53         12.0          19.0   2019-01-02 6   \n",
       "30    2019-01-02     7        0.54         13.0          19.0   2019-01-02 7   \n",
       "...          ...   ...         ...          ...           ...            ...   \n",
       "2812  2019-04-28     5        0.52         24.0          13.0   2019-04-28 5   \n",
       "2813  2019-04-28     6        0.53         22.0          14.0   2019-04-28 6   \n",
       "2814  2019-04-28     7        0.57         19.0          14.0   2019-04-28 7   \n",
       "2815  2019-04-28     8        0.61         20.0          16.0   2019-04-28 8   \n",
       "2816  2019-04-28     9        0.60         20.0          16.0   2019-04-28 9   \n",
       "2817  2019-04-28    10        0.59         10.0          16.0  2019-04-28 10   \n",
       "2818  2019-04-28    11        0.56          7.0          16.0  2019-04-28 11   \n",
       "2819  2019-04-28    12        0.51          7.0          16.0  2019-04-28 12   \n",
       "2820  2019-04-28    13        0.47          8.0          16.0  2019-04-28 13   \n",
       "2821  2019-04-28    14        0.44         13.0          16.0  2019-04-28 14   \n",
       "2822  2019-04-28    15        0.39         12.0          16.0  2019-04-28 15   \n",
       "2823  2019-04-28    16        0.35         17.0          17.0  2019-04-28 16   \n",
       "2824  2019-04-28    17        0.37         23.0          17.0  2019-04-28 17   \n",
       "2825  2019-04-28    18        0.41         21.0          20.0  2019-04-28 18   \n",
       "2826  2019-04-28    19        0.44         26.0          22.0  2019-04-28 19   \n",
       "2827  2019-04-28    20        0.48         25.0          22.0  2019-04-28 20   \n",
       "2828  2019-04-28    21        0.50         27.0          21.0  2019-04-28 21   \n",
       "2829  2019-04-28    22        0.55         28.0          21.0  2019-04-28 22   \n",
       "2830  2019-04-28    23        0.58         29.0          21.0  2019-04-28 23   \n",
       "2832  2019-04-29     1        0.61         28.0          22.0   2019-04-29 1   \n",
       "2833  2019-04-29     2        0.58         19.0          22.0   2019-04-29 2   \n",
       "2834  2019-04-29     3        0.56         21.0          22.0   2019-04-29 3   \n",
       "2835  2019-04-29     4        0.54         17.0          22.0   2019-04-29 4   \n",
       "2836  2019-04-29     5        0.51         14.0          22.0   2019-04-29 5   \n",
       "2837  2019-04-29     6        0.48         23.0          22.0   2019-04-29 6   \n",
       "2838  2019-04-29     7        0.49         23.0          22.0   2019-04-29 7   \n",
       "2839  2019-04-29     8        0.52         26.0          22.0   2019-04-29 8   \n",
       "2840  2019-04-29     9        0.57         32.0          22.0   2019-04-29 9   \n",
       "2841  2019-04-29    10        0.62         33.0          24.0  2019-04-29 10   \n",
       "2842  2019-04-29    11        0.66         32.0          25.0  2019-04-29 11   \n",
       "\n",
       "      Flujo_en_Sentido_A  Flujo_en_Sentido_B  HORA  TEMP   HUM     PNM     DD  \\\n",
       "0                 2397.0              1771.0   1.0  25.9  64.0  1010.6   70.0   \n",
       "1                 3013.0              2384.0   2.0  25.4  67.0  1010.4   70.0   \n",
       "2                 2098.0              1835.0   3.0  24.7  71.0  1010.5   50.0   \n",
       "3                 1165.0              1254.0   4.0  24.1  75.0  1010.2   50.0   \n",
       "4                 1176.0              1026.0   5.0  23.7  80.0  1010.8   70.0   \n",
       "5                  952.0              1000.0   6.0  23.3  81.0  1011.0   70.0   \n",
       "6                  695.0               832.0   7.0  23.8  85.0  1011.2   70.0   \n",
       "7                  533.0               597.0   8.0  24.0  87.0  1011.5   50.0   \n",
       "8                  518.0               482.0   9.0  25.2  83.0  1011.4   50.0   \n",
       "9                  668.0               569.0  10.0  26.6  78.0  1011.0   50.0   \n",
       "10                1082.0              1120.0  11.0  27.6  76.0  1010.7   50.0   \n",
       "11                1601.0              1796.0  12.0  27.6  78.0  1010.3   70.0   \n",
       "12                1746.0              2202.0  13.0  28.7  77.0  1009.6   70.0   \n",
       "13                1291.0              1586.0  14.0  28.5  79.0  1008.7   90.0   \n",
       "14                1347.0              1321.0  15.0  29.3  80.0  1008.2   90.0   \n",
       "15                1756.0              1574.0  16.0  30.1  76.0  1006.9   90.0   \n",
       "16                2124.0              2081.0  17.0  31.0  75.0  1006.0  360.0   \n",
       "17                2636.0              2497.0  18.0  29.2  82.0  1005.9  320.0   \n",
       "18                2793.0              2432.0  19.0  29.1  77.0  1005.8  340.0   \n",
       "19                2581.0              2490.0  20.0  28.9  81.0  1005.5  360.0   \n",
       "20                2414.0              2532.0  21.0  28.7  80.0  1006.5   20.0   \n",
       "21                1822.0              2087.0  22.0  28.7  78.0  1007.7  360.0   \n",
       "22                1216.0              1634.0  23.0  28.7  76.0  1007.7  360.0   \n",
       "24                 464.0               829.0   1.0  27.3  82.0  1006.7  320.0   \n",
       "25                 356.0               525.0   2.0  26.8  82.0  1005.3  320.0   \n",
       "26                 369.0               427.0   3.0  26.1  83.0  1005.1  320.0   \n",
       "27                 731.0               619.0   4.0  26.0  83.0  1005.8  320.0   \n",
       "28                1869.0              1121.0   5.0  25.7  88.0  1005.8  320.0   \n",
       "29                3131.0              1909.0   6.0  26.0  85.0  1005.6  340.0   \n",
       "30                3982.0              2930.0   7.0  26.6  85.0  1005.6  340.0   \n",
       "...                  ...                 ...   ...   ...   ...     ...    ...   \n",
       "2812              1281.0              1188.0   5.0  17.8  91.0  1012.3  290.0   \n",
       "2813              1423.0              1418.0   6.0  17.5  91.0  1012.4  270.0   \n",
       "2814              1239.0              1351.0   7.0  16.6  92.0  1012.7  250.0   \n",
       "2815              1154.0              1022.0   8.0  17.0  92.0  1013.2  250.0   \n",
       "2816              1417.0              1275.0   9.0  18.2  81.0  1013.7  230.0   \n",
       "2817              1710.0              1477.0  10.0  19.2  72.0  1014.1  230.0   \n",
       "2818              2127.0              2064.0  11.0  19.8  68.0  1014.1  230.0   \n",
       "2819              2681.0              2834.0  12.0  20.2  69.0  1013.7  290.0   \n",
       "2820              2653.0              2702.0  13.0  21.2  62.0  1012.9  290.0   \n",
       "2821              2432.0              2217.0  14.0  22.0  60.0  1012.1  290.0   \n",
       "2822              2684.0              2359.0  15.0  22.8  57.0  1011.5  290.0   \n",
       "2823              3004.0              2779.0  16.0  22.2  63.0  1011.3  340.0   \n",
       "2824              3164.0              3380.0  17.0  21.6  63.0  1011.0  340.0   \n",
       "2825              3206.0              3751.0  18.0  20.6  72.0  1010.9  340.0   \n",
       "2826              3035.0              3899.0  19.0  19.7  77.0  1011.4  320.0   \n",
       "2827              2885.0              3561.0  20.0  18.3  83.0  1011.5  320.0   \n",
       "2828              1972.0              2743.0  21.0  17.7  83.0  1011.5  320.0   \n",
       "2829              1535.0              2313.0  22.0  17.8  81.0  1011.4  320.0   \n",
       "2830              1243.0              1802.0  23.0  17.4  79.0  1011.5  320.0   \n",
       "2832               459.0               923.0   1.0  17.6  80.0  1011.2  320.0   \n",
       "2833               312.0               557.0   2.0  16.6  86.0  1011.3  320.0   \n",
       "2834               328.0               476.0   3.0  16.7  88.0  1011.5  270.0   \n",
       "2835               730.0               617.0   4.0  16.2  90.0  1011.1  270.0   \n",
       "2836              2132.0              1182.0   5.0  15.5  91.0  1011.2  320.0   \n",
       "2837              3807.0              2231.0   6.0  15.0  93.0  1011.2  320.0   \n",
       "2838              4707.0              3475.0   7.0  14.8  94.0  1011.7  320.0   \n",
       "2839              4620.0              3674.0   8.0  15.2  93.0  1012.0  320.0   \n",
       "2840              4132.0              3586.0   9.0  16.9  87.0  1013.0  290.0   \n",
       "2841              3776.0              3536.0  10.0  17.5  83.0  1013.2  290.0   \n",
       "2842              1186.0              1295.0  11.0  19.2  75.0  1013.2  290.0   \n",
       "\n",
       "        FF  \n",
       "0     19.0  \n",
       "1     19.0  \n",
       "2     20.0  \n",
       "3     17.0  \n",
       "4     17.0  \n",
       "5     17.0  \n",
       "6     15.0  \n",
       "7     15.0  \n",
       "8     13.0  \n",
       "9     13.0  \n",
       "10    11.0  \n",
       "11    13.0  \n",
       "12    13.0  \n",
       "13    17.0  \n",
       "14    17.0  \n",
       "15    17.0  \n",
       "16    13.0  \n",
       "17    15.0  \n",
       "18    17.0  \n",
       "19    20.0  \n",
       "20    13.0  \n",
       "21     9.0  \n",
       "22    19.0  \n",
       "24    15.0  \n",
       "25    20.0  \n",
       "26    15.0  \n",
       "27    13.0  \n",
       "28    11.0  \n",
       "29    11.0  \n",
       "30    15.0  \n",
       "...    ...  \n",
       "2812   6.0  \n",
       "2813   7.0  \n",
       "2814   6.0  \n",
       "2815   4.0  \n",
       "2816   7.0  \n",
       "2817   7.0  \n",
       "2818   9.0  \n",
       "2819  11.0  \n",
       "2820   9.0  \n",
       "2821   7.0  \n",
       "2822  11.0  \n",
       "2823  13.0  \n",
       "2824  17.0  \n",
       "2825  15.0  \n",
       "2826  15.0  \n",
       "2827  13.0  \n",
       "2828  13.0  \n",
       "2829   9.0  \n",
       "2830   9.0  \n",
       "2832   9.0  \n",
       "2833   6.0  \n",
       "2834   7.0  \n",
       "2835   7.0  \n",
       "2836   9.0  \n",
       "2837  11.0  \n",
       "2838   9.0  \n",
       "2839   9.0  \n",
       "2840   9.0  \n",
       "2841  13.0  \n",
       "2842  11.0  \n",
       "\n",
       "[1897 rows x 14 columns]>"
      ]
     },
     "execution_count": 107,
     "metadata": {},
     "output_type": "execute_result"
    }
   ],
   "source": [
    "df_nuevo.head"
   ]
  },
  {
   "cell_type": "code",
   "execution_count": 108,
   "metadata": {},
   "outputs": [],
   "source": [
    "# Cambio las variables a FLOAT\n",
    "df_nuevo['no2_la_boca'] = df_nuevo['no2_la_boca'].astype(float)\n",
    "df_nuevo['pm10_la_boca'] = df_nuevo['pm10_la_boca'].astype(float)\n",
    "df_nuevo['co_la_boca'] = df_nuevo['co_la_boca'].astype(float)"
   ]
  },
  {
   "cell_type": "code",
   "execution_count": 109,
   "metadata": {
    "scrolled": true
   },
   "outputs": [
    {
     "data": {
      "text/plain": [
       "fecha                 False\n",
       "hora                  False\n",
       "co_la_boca            False\n",
       "no2_la_boca           False\n",
       "pm10_la_boca          False\n",
       "fecha-hora            False\n",
       "Flujo_en_Sentido_A    False\n",
       "Flujo_en_Sentido_B    False\n",
       "HORA                  False\n",
       "TEMP                  False\n",
       "HUM                   False\n",
       "PNM                   False\n",
       "DD                    False\n",
       "FF                    False\n",
       "dtype: bool"
      ]
     },
     "execution_count": 109,
     "metadata": {},
     "output_type": "execute_result"
    }
   ],
   "source": [
    "# Por si acaso veo si quedo algun nulo\n",
    "df_nuevo.isnull().any()"
   ]
  },
  {
   "cell_type": "code",
   "execution_count": 110,
   "metadata": {},
   "outputs": [
    {
     "data": {
      "image/png": "[encoded data removed]",
      "text/plain": [
       "<Figure size 648x144 with 1 Axes>"
      ]
     },
     "metadata": {
      "needs_background": "light"
     },
     "output_type": "display_data"
    },
    {
     "data": {
      "image/png": "[encoded data removed]",
      "text/plain": [
       "<Figure size 648x144 with 1 Axes>"
      ]
     },
     "metadata": {
      "needs_background": "light"
     },
     "output_type": "display_data"
    }
   ],
   "source": [
    "plt.figure(figsize=(9,2))\n",
    "sns.kdeplot(df_nuevo.co_la_boca, color=\"Blue\", shade = True)\n",
    "plt.xlabel(\"co_la_boca\")\n",
    "plt.ylabel(\"Frecuency\")\n",
    "plt.title('Distribución de CO2',size = 20)\n",
    "plt.show()\n",
    "\n",
    "plt.figure(figsize=(9,2))\n",
    "sns.countplot(df_nuevo.co_la_boca, color=\"Blue\")\n",
    "plt.xlabel(\"co_la_boca\")\n",
    "plt.ylabel(\"Count\")\n",
    "plt.xticks([])\n",
    "plt.show()"
   ]
  },
  {
   "cell_type": "code",
   "execution_count": 111,
   "metadata": {
    "scrolled": true
   },
   "outputs": [
    {
     "data": {
      "image/png": "[encoded data removed]",
      "text/plain": [
       "<Figure size 648x144 with 1 Axes>"
      ]
     },
     "metadata": {
      "needs_background": "light"
     },
     "output_type": "display_data"
    },
    {
     "data": {
      "image/png": "[encoded data removed]",
      "text/plain": [
       "<Figure size 648x144 with 1 Axes>"
      ]
     },
     "metadata": {
      "needs_background": "light"
     },
     "output_type": "display_data"
    }
   ],
   "source": [
    "plt.figure(figsize=(9,2))\n",
    "sns.kdeplot(df_nuevo.no2_la_boca, color=\"Blue\", shade = True)\n",
    "plt.xlabel(\"N02_la_boca\")\n",
    "plt.ylabel(\"Frecuency\")\n",
    "plt.title('Distribución de NO2',size = 20)\n",
    "plt.show()\n",
    "\n",
    "plt.figure(figsize=(9,2))\n",
    "sns.countplot(df_nuevo.no2_la_boca, color=\"Blue\")\n",
    "plt.xlabel(\"co_la_boca\")\n",
    "plt.ylabel(\"Count\")\n",
    "plt.xticks([])\n",
    "plt.show()"
   ]
  },
  {
   "cell_type": "code",
   "execution_count": 118,
   "metadata": {
    "scrolled": true
   },
   "outputs": [
    {
     "data": {
      "image/png": "[encoded data removed]",
      "text/plain": [
       "<Figure size 648x144 with 1 Axes>"
      ]
     },
     "metadata": {
      "needs_background": "light"
     },
     "output_type": "display_data"
    },
    {
     "data": {
      "image/png": "[encoded data removed]",
      "text/plain": [
       "<Figure size 648x144 with 1 Axes>"
      ]
     },
     "metadata": {
      "needs_background": "light"
     },
     "output_type": "display_data"
    }
   ],
   "source": [
    "plt.figure(figsize=(9,2))\n",
    "sns.kdeplot(df_nuevo.pm10_la_boca, color=\"Blue\", shade = True)\n",
    "plt.xlabel(\"pm10_la_boca\")\n",
    "plt.ylabel(\"Frecuency\")\n",
    "plt.title('Distribucion de PM10',size = 20)\n",
    "plt.show()\n",
    "\n",
    "plt.figure(figsize=(9,2))\n",
    "sns.countplot(df_nuevo.pm10_la_boca, color=\"Blue\")\n",
    "plt.xlabel(\"pm10_la_boca\")\n",
    "plt.ylabel(\"Count\")\n",
    "plt.xticks([])\n",
    "plt.show()"
   ]
  },
  {
   "cell_type": "code",
   "execution_count": 119,
   "metadata": {},
   "outputs": [
    {
     "data": {
      "image/png": "[encoded data removed]",
      "text/plain": [
       "<Figure size 648x144 with 1 Axes>"
      ]
     },
     "metadata": {
      "needs_background": "light"
     },
     "output_type": "display_data"
    },
    {
     "data": {
      "image/png": "[encoded data removed]",
      "text/plain": [
       "<Figure size 648x144 with 1 Axes>"
      ]
     },
     "metadata": {
      "needs_background": "light"
     },
     "output_type": "display_data"
    }
   ],
   "source": [
    "plt.figure(figsize=(9,2))\n",
    "sns.kdeplot(df_nuevo.Flujo_en_Sentido_A, color=\"Blue\", shade = True)\n",
    "plt.xlabel(\"Flujo en sentido A\")\n",
    "plt.ylabel(\"Frecuency\")\n",
    "plt.title('Distribución de Flujo en sentido A',size = 20)\n",
    "plt.show()\n",
    "\n",
    "plt.figure(figsize=(9,2))\n",
    "sns.countplot(df_nuevo.Flujo_en_Sentido_A, color=\"Blue\")\n",
    "plt.xlabel(\"Flujo en sentido A\")\n",
    "plt.ylabel(\"Count\")\n",
    "plt.xticks([])\n",
    "plt.show()"
   ]
  },
  {
   "cell_type": "code",
   "execution_count": 80,
   "metadata": {},
   "outputs": [],
   "source": [
    "percentil_90 = df_nuevo['co_la_boca'].quantile(0.95)"
   ]
  },
  {
   "cell_type": "code",
   "execution_count": 81,
   "metadata": {},
   "outputs": [
    {
     "data": {
      "text/plain": [
       "0.78"
      ]
     },
     "execution_count": 81,
     "metadata": {},
     "output_type": "execute_result"
    }
   ],
   "source": [
    "percentil_90"
   ]
  },
  {
   "cell_type": "code",
   "execution_count": null,
   "metadata": {},
   "outputs": [],
   "source": []
  },
  {
   "cell_type": "code",
   "execution_count": null,
   "metadata": {},
   "outputs": [],
   "source": []
  }
 ],
 "metadata": {
  "kernelspec": {
   "display_name": "Python 3",
   "language": "python",
   "name": "python3"
  },
  "language_info": {
   "codemirror_mode": {
    "name": "ipython",
    "version": 3
   },
   "file_extension": ".py",
   "mimetype": "text/x-python",
   "name": "python",
   "nbconvert_exporter": "python",
   "pygments_lexer": "ipython3",
   "version": "3.7.3"
  }
 },
 "nbformat": 4,
 "nbformat_minor": 2
}
